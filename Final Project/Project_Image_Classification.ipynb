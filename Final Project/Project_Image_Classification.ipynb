{
 "cells": [
  {
   "cell_type": "markdown",
   "metadata": {
    "id": "jNci3SsyOvpk"
   },
   "source": [
    "# Project - Image Classification"
   ]
  },
  {
   "cell_type": "markdown",
   "metadata": {
    "id": "7oGkFF4WOxAD"
   },
   "source": [
    "Hola !\n",
    "\n",
    "Objective of this project is to implement the following models for the CIFAR100 image classification dataset."
   ]
  },
  {
   "cell_type": "markdown",
   "metadata": {
    "id": "4u-hdsQCOjF8"
   },
   "source": [
    "### Importing packages "
   ]
  },
  {
   "cell_type": "code",
   "execution_count": null,
   "metadata": {
    "id": "KqKvuMOvPVgo"
   },
   "outputs": [],
   "source": [
    "# Import neccessary packages here\n"
   ]
  },
  {
   "cell_type": "markdown",
   "metadata": {
    "id": "T4DYSrBqPYGV"
   },
   "source": [
    "### Load data"
   ]
  },
  {
   "cell_type": "code",
   "execution_count": null,
   "metadata": {
    "id": "7RSfrtKYYfWm"
   },
   "outputs": [],
   "source": [
    "# Read images using built-in functions \n",
    "\n",
    "\n",
    "# Perform preprocessing (if any)"
   ]
  },
  {
   "cell_type": "markdown",
   "metadata": {
    "id": "oivf0DssOjGE"
   },
   "source": [
    "###  Training parameters"
   ]
  },
  {
   "cell_type": "code",
   "execution_count": null,
   "metadata": {
    "collapsed": true,
    "id": "X-sPYR9sOjGF"
   },
   "outputs": [],
   "source": [
    "# Mention the training parameters such as epochs, learning rate, number of samples etc.\n",
    "\n"
   ]
  },
  {
   "cell_type": "markdown",
   "metadata": {
    "id": "V2Iopu5yZd09"
   },
   "source": [
    "## Training CNN for CIFAR100"
   ]
  },
  {
   "cell_type": "code",
   "execution_count": null,
   "metadata": {
    "id": "7Nab-y7IaI2f"
   },
   "outputs": [],
   "source": [
    "# Design the model architecture here\n",
    "\n"
   ]
  },
  {
   "cell_type": "markdown",
   "metadata": {
    "id": "kYHgAO4Qbxdc"
   },
   "source": [
    "### Compile"
   ]
  },
  {
   "cell_type": "code",
   "execution_count": null,
   "metadata": {
    "id": "GypCNf5Obysn"
   },
   "outputs": [],
   "source": [
    "# Compile the model architecture here\n",
    "\n"
   ]
  },
  {
   "cell_type": "markdown",
   "metadata": {
    "id": "yjfLW20PasaS"
   },
   "source": [
    "### Training"
   ]
  },
  {
   "cell_type": "code",
   "execution_count": null,
   "metadata": {
    "id": "7DReRBpjatbG"
   },
   "outputs": [],
   "source": [
    "# Train the transfer learning model here\n",
    "\n"
   ]
  },
  {
   "cell_type": "markdown",
   "metadata": {
    "id": "xDFQd0XPawr1"
   },
   "source": [
    "### Testing"
   ]
  },
  {
   "cell_type": "code",
   "execution_count": null,
   "metadata": {
    "id": "zJx-1R8Ma0E_"
   },
   "outputs": [],
   "source": [
    "# Test the transfer learning model with testing set\n",
    "\n"
   ]
  },
  {
   "cell_type": "markdown",
   "metadata": {
    "id": "J1EyKd5DcOHw"
   },
   "source": [
    "### Save"
   ]
  },
  {
   "cell_type": "code",
   "execution_count": null,
   "metadata": {
    "id": "VD_wilQPcLKW"
   },
   "outputs": [],
   "source": [
    "# Save the model to disk\n",
    "\n"
   ]
  },
  {
   "cell_type": "markdown",
   "metadata": {
    "id": "r9kWAvK_b84P"
   },
   "source": [
    "### Inference"
   ]
  },
  {
   "cell_type": "code",
   "execution_count": null,
   "metadata": {
    "id": "17yzqpEfb8fs"
   },
   "outputs": [],
   "source": [
    "# Download random fashion images from internet and process them to give as input to the model\n",
    "\n",
    "\n",
    "# Predict label of the downloaded images using trained model\n",
    "\n"
   ]
  },
  {
   "cell_type": "markdown",
   "metadata": {
    "id": "xKk6SIOObg-P"
   },
   "source": [
    "### Further Fun\n",
    "\n",
    "\n",
    "\n",
    "*   Experiment with different model architectures\n",
    "*   Play with different parameters such as convolution size, pooling, padding, striding, epochs, dropout etc.\n",
    "*   Train a Dense Neural Network as baseline and compare the performance\n",
    "\n"
   ]
  },
  {
   "cell_type": "code",
   "execution_count": null,
   "metadata": {
    "id": "-ycEo2HEdKHp"
   },
   "outputs": [],
   "source": []
  }
 ],
 "metadata": {
  "anaconda-cloud": {},
  "colab": {
   "collapsed_sections": [],
   "name": "Project - Image Classification.ipynb",
   "provenance": []
  },
  "hide_input": false,
  "kernelspec": {
   "display_name": "Python 3",
   "language": "python",
   "name": "python3"
  },
  "language_info": {
   "codemirror_mode": {
    "name": "ipython",
    "version": 3
   },
   "file_extension": ".py",
   "mimetype": "text/x-python",
   "name": "python",
   "nbconvert_exporter": "python",
   "pygments_lexer": "ipython3",
   "version": "3.7.3"
  }
 },
 "nbformat": 4,
 "nbformat_minor": 1
}
